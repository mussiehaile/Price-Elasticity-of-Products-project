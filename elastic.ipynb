{
 "cells": [
  {
   "cell_type": "code",
   "execution_count": 2,
   "metadata": {},
   "outputs": [],
   "source": [
    "#importing \n",
    "%matplotlib inline\n",
    "from __future__ import print_function\n",
    "from statsmodels.compat import lzip\n",
    "import numpy as np\n",
    "import pandas as pd\n",
    "import matplotlib.pyplot as plt\n",
    "import statsmodels.api as sm\n",
    "from statsmodels.formula.api import ols"
   ]
  },
  {
   "cell_type": "code",
   "execution_count": 3,
   "metadata": {},
   "outputs": [
    {
     "data": {
      "text/html": [
       "<div>\n",
       "<style scoped>\n",
       "    .dataframe tbody tr th:only-of-type {\n",
       "        vertical-align: middle;\n",
       "    }\n",
       "\n",
       "    .dataframe tbody tr th {\n",
       "        vertical-align: top;\n",
       "    }\n",
       "\n",
       "    .dataframe thead th {\n",
       "        text-align: right;\n",
       "    }\n",
       "</style>\n",
       "<table border=\"1\" class=\"dataframe\">\n",
       "  <thead>\n",
       "    <tr style=\"text-align: right;\">\n",
       "      <th></th>\n",
       "      <th>Year</th>\n",
       "      <th>Quarter</th>\n",
       "      <th>Quantity</th>\n",
       "      <th>Price</th>\n",
       "    </tr>\n",
       "  </thead>\n",
       "  <tbody>\n",
       "    <tr>\n",
       "      <th>0</th>\n",
       "      <td>1977</td>\n",
       "      <td>1</td>\n",
       "      <td>22.9976</td>\n",
       "      <td>142.1667</td>\n",
       "    </tr>\n",
       "    <tr>\n",
       "      <th>1</th>\n",
       "      <td>1977</td>\n",
       "      <td>2</td>\n",
       "      <td>22.6131</td>\n",
       "      <td>143.9333</td>\n",
       "    </tr>\n",
       "    <tr>\n",
       "      <th>2</th>\n",
       "      <td>1977</td>\n",
       "      <td>3</td>\n",
       "      <td>23.4054</td>\n",
       "      <td>146.5000</td>\n",
       "    </tr>\n",
       "    <tr>\n",
       "      <th>3</th>\n",
       "      <td>1977</td>\n",
       "      <td>4</td>\n",
       "      <td>22.7401</td>\n",
       "      <td>150.8000</td>\n",
       "    </tr>\n",
       "    <tr>\n",
       "      <th>4</th>\n",
       "      <td>1978</td>\n",
       "      <td>1</td>\n",
       "      <td>22.0441</td>\n",
       "      <td>160.0000</td>\n",
       "    </tr>\n",
       "  </tbody>\n",
       "</table>\n",
       "</div>"
      ],
      "text/plain": [
       "   Year  Quarter  Quantity     Price\n",
       "0  1977        1   22.9976  142.1667\n",
       "1  1977        2   22.6131  143.9333\n",
       "2  1977        3   23.4054  146.5000\n",
       "3  1977        4   22.7401  150.8000\n",
       "4  1978        1   22.0441  160.0000"
      ]
     },
     "execution_count": 3,
     "metadata": {},
     "output_type": "execute_result"
    }
   ],
   "source": [
    "#load our data\n",
    "df = pd.read_csv('beef.csv')\n",
    "df.head()"
   ]
  },
  {
   "cell_type": "code",
   "execution_count": 4,
   "metadata": {},
   "outputs": [],
   "source": [
    "# Add a constant column for the intercept term\n",
    "df['Intercept'] = 1\n",
    "\n",
    "# Define the dependent variable (Quantity) and independent variable (Price)\n",
    "X = df[['Intercept', 'Price']]\n",
    "y = df['Quantity']\n"
   ]
  },
  {
   "cell_type": "code",
   "execution_count": 9,
   "metadata": {},
   "outputs": [
    {
     "data": {
      "image/png": "[encoded data removed]",
      "text/plain": [
       "<Figure size 640x480 with 1 Axes>"
      ]
     },
     "metadata": {},
     "output_type": "display_data"
    }
   ],
   "source": [
    "# Plotting the demand curve as a scatter plot\n",
    "plt.scatter(df['Quantity'], df['Price'])\n",
    "plt.xlabel('Quantity')\n",
    "plt.ylabel('Price')\n",
    "plt.title('Demand Curve')\n",
    "plt.show()"
   ]
  },
  {
   "cell_type": "code",
   "execution_count": 5,
   "metadata": {},
   "outputs": [
    {
     "name": "stdout",
     "output_type": "stream",
     "text": [
      "                            OLS Regression Results                            \n",
      "==============================================================================\n",
      "Dep. Variable:               Quantity   R-squared:                       0.901\n",
      "Model:                            OLS   Adj. R-squared:                  0.900\n",
      "Method:                 Least Squares   F-statistic:                     811.2\n",
      "Date:                Wed, 14 Jun 2023   Prob (F-statistic):           1.69e-46\n",
      "Time:                        23:13:55   Log-Likelihood:                -77.493\n",
      "No. Observations:                  91   AIC:                             159.0\n",
      "Df Residuals:                      89   BIC:                             164.0\n",
      "Df Model:                           1                                         \n",
      "Covariance Type:            nonrobust                                         \n",
      "==============================================================================\n",
      "                 coef    std err          t      P>|t|      [0.025      0.975]\n",
      "------------------------------------------------------------------------------\n",
      "Intercept     30.0515      0.413     72.701      0.000      29.230      30.873\n",
      "Price         -0.0465      0.002    -28.482      0.000      -0.050      -0.043\n",
      "==============================================================================\n",
      "Omnibus:                        3.453   Durbin-Watson:                   1.533\n",
      "Prob(Omnibus):                  0.178   Jarque-Bera (JB):                2.460\n",
      "Skew:                           0.237   Prob(JB):                        0.292\n",
      "Kurtosis:                       2.349   Cond. No.                     1.74e+03\n",
      "==============================================================================\n",
      "\n",
      "Notes:\n",
      "[1] Standard Errors assume that the covariance matrix of the errors is correctly specified.\n",
      "[2] The condition number is large, 1.74e+03. This might indicate that there are\n",
      "strong multicollinearity or other numerical problems.\n"
     ]
    }
   ],
   "source": [
    "#build our Ordinary Least Squares regression (OLS)\n",
    "model = sm.OLS(y, X)\n",
    "results = model.fit()\n",
    "print(results.summary())"
   ]
  },
  {
   "cell_type": "code",
   "execution_count": 6,
   "metadata": {},
   "outputs": [],
   "source": [
    "#finding cofficinet (represents the relationship between independent and dependent variable )\n",
    "price_coefficient = results.params['Price']\n",
    "\n",
    "avg_price = df['Price'].mean()\n",
    "avg_quantity = df['Quantity'].mean()\n",
    "elasticity = price_coefficient * (avg_price / avg_quantity)\n",
    "\n"
   ]
  },
  {
   "cell_type": "code",
   "execution_count": 7,
   "metadata": {},
   "outputs": [
    {
     "name": "stdout",
     "output_type": "stream",
     "text": [
      "Elasticity: -0.6329392811763699\n"
     ]
    }
   ],
   "source": [
    "print(\"Elasticity:\", elasticity)\n"
   ]
  },
  {
   "attachments": {},
   "cell_type": "markdown",
   "metadata": {},
   "source": [
    "Elasticity Value: \n",
    "The elasticity value (-0.6329) represents the responsiveness of quantity to price changes.\n",
    "\n",
    "Sign:\n",
    " The negative sign (-0.6329) indicates an inverse relationship between price and quantity.\n",
    "\n",
    "Magnitude:\n",
    " The absolute value (0.6329) shows the extent of responsiveness.\n",
    "\n",
    "Interpretation:\n",
    " The elasticity value suggests inelastic demand, meaning quantity is not highly responsive to price changes.\n",
    "\n",
    "Revenue Implication:\n",
    " Decreasing price might decrease total revenue due to the limited change in quantity."
   ]
  },
  {
   "attachments": {},
   "cell_type": "markdown",
   "metadata": {},
   "source": [
    "              Advice for a seller \n",
    "\n",
    "Price Increase: Since the elasticity of demand is less than 1 (inelastic), a price increase might lead to a proportionally smaller decrease in quantity demanded. In other words, customers are relatively less sensitive to price changes, and increasing the price may not result in a significant decrease in quantity sold.\n",
    "\n",
    "Revenue Consideration: However, it is important to consider the overall revenue impact when deciding whether to increase the price. While inelastic demand suggests that a price increase may not cause a substantial decrease in quantity, it does not guarantee an increase in total revenue. The seller should carefully evaluate the potential effects on revenue, taking into account factors such as cost structure, market conditions, and competition."
   ]
  },
  {
   "cell_type": "code",
   "execution_count": null,
   "metadata": {},
   "outputs": [],
   "source": []
  }
 ],
 "metadata": {
  "kernelspec": {
   "display_name": "myenv",
   "language": "python",
   "name": "python3"
  },
  "language_info": {
   "codemirror_mode": {
    "name": "ipython",
    "version": 3
   },
   "file_extension": ".py",
   "mimetype": "text/x-python",
   "name": "python",
   "nbconvert_exporter": "python",
   "pygments_lexer": "ipython3",
   "version": "3.11.3"
  },
  "orig_nbformat": 4
 },
 "nbformat": 4,
 "nbformat_minor": 2
}
